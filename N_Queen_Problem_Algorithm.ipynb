{
 "cells": [
  {
   "cell_type": "code",
   "execution_count": 23,
   "id": "24b44f1d-9009-436a-8c4c-c850536fcf0d",
   "metadata": {},
   "outputs": [],
   "source": [
    "import numpy as np\n",
    "from IPython.display import clear_output\n",
    "import time"
   ]
  },
  {
   "cell_type": "code",
   "execution_count": 24,
   "id": "cb0ba9d9-c985-4142-8216-26dc3c041f4a",
   "metadata": {},
   "outputs": [
    {
     "name": "stdin",
     "output_type": "stream",
     "text": [
      "n değerini giriniz: 5\n"
     ]
    }
   ],
   "source": [
    "n=int(input(\"n değerini giriniz:\"))"
   ]
  },
  {
   "cell_type": "code",
   "execution_count": 25,
   "id": "1dad3ac9-b350-4caa-8bc2-b4e5ed7488bc",
   "metadata": {},
   "outputs": [],
   "source": [
    "Parray=np.zeros((n,n))\n",
    "Carray=np.zeros((n,n))\n",
    "NowCollision=0\n",
    "MinCollision=0"
   ]
  },
  {
   "cell_type": "code",
   "execution_count": 26,
   "id": "ae70ec78-3975-4120-9eba-b292cf040008",
   "metadata": {},
   "outputs": [],
   "source": [
    "for i in range(0,n):\n",
    "    Parray[i][np.random.randint(0,n,1)]=1"
   ]
  },
  {
   "cell_type": "code",
   "execution_count": 27,
   "id": "c27d7a8a-89e0-478f-9cc0-907ed9b75308",
   "metadata": {},
   "outputs": [],
   "source": [
    "def FindNowCollision(Parray):\n",
    "    collision =0\n",
    "    for y in range(0,n):#her satır\n",
    "        x=np.where(Parray[y]==1)[0]\n",
    "        #-----------------------\n",
    "        for j in range(0,n):#her satır\n",
    "            if(y==j):\n",
    "                continue\n",
    "                                                    #sütun kontrolü\n",
    "            if(Parray[j][x]==1):\n",
    "                collision +=1\n",
    "        #----------------------- \n",
    "        for j in range(1,n):\n",
    "            if(y-j >= 0 and x-j >=0):\n",
    "                if(Parray[y-j][x-j]==1):\n",
    "                    collision +=1\n",
    "            else:\n",
    "                break\n",
    "        #----------------------- \n",
    "        for j in range(1,n):\n",
    "            if(y-j >= 0 and x+j <n):\n",
    "                if(Parray[y-j][x+j]==1):\n",
    "                    collision +=1\n",
    "            else:\n",
    "                break\n",
    "        #-----------------------\n",
    "        for j in range(1,n):\n",
    "            if(y+j < n and x-j >=0):\n",
    "                if(Parray[y+j][x-j]==1):\n",
    "                    collision +=1\n",
    "            else:\n",
    "                break\n",
    "        #-----------------------\n",
    "        for j in range(1,n):\n",
    "            if(y+j < n and x+j <n):\n",
    "                if(Parray[y+j][x+j]==1):\n",
    "                    collision +=1\n",
    "            else:\n",
    "                break   \n",
    "    return collision"
   ]
  },
  {
   "cell_type": "code",
   "execution_count": 28,
   "id": "f56ab963-8556-4cd9-a164-02820c05f1ef",
   "metadata": {},
   "outputs": [],
   "source": [
    "def Nswap(a,b,TempParray1):\n",
    "    TempParray1[a[0],a[1]],TempParray1[b[0],b[1]]=TempParray1[b[0],b[1]],TempParray1[a[0],a[1]]"
   ]
  },
  {
   "cell_type": "code",
   "execution_count": 29,
   "id": "19c78aca-9e3c-4ca9-9772-e9b25168a813",
   "metadata": {},
   "outputs": [],
   "source": [
    "def findArrayCollision(Parray1):\n",
    "    for y in range(0,n):\n",
    "        for x in range(0,n):\n",
    "            TempParray=np.zeros((n,n)) \n",
    "            TempParray=np.copy(Parray1)\n",
    "            px=np.where(Parray1[y]==1)[0]\n",
    "            Nswap([y,px],[y,x],TempParray)\n",
    "            \n",
    "            Carray[y][x]=FindNowCollision(TempParray)"
   ]
  },
  {
   "cell_type": "code",
   "execution_count": 30,
   "id": "695e29f2-5726-4123-a7e0-8e40e3043b88",
   "metadata": {},
   "outputs": [],
   "source": [
    "def randomMin(Carray1):\n",
    "    c=np.where(Carray1==Carray1.min())#min değerler dizisi\n",
    "    a=np.random.randint(0,len(c[0]),1)#min değerlerden rastgele sütun seçimi\n",
    "    b=[row[a] for row in c]\n",
    "    return b"
   ]
  },
  {
   "cell_type": "code",
   "execution_count": 31,
   "id": "ea79550b-5f1b-47a4-946d-e18148134473",
   "metadata": {},
   "outputs": [],
   "source": [
    "def swap(minn):\n",
    "    c=np.where(Parray[minn[0]]==1)\n",
    "    Parray[minn[0],c[1]],Parray[minn[0],minn[1]]=Parray[minn[0],minn[1]],Parray[minn[0],c[1]]"
   ]
  },
  {
   "cell_type": "code",
   "execution_count": 32,
   "id": "53fffd5c-d38e-4cd8-97b1-c41e13588f25",
   "metadata": {},
   "outputs": [],
   "source": [
    "def step(NCollision,MCollision):\n",
    "    clear_output(wait=True)\n",
    "    \n",
    "    NCollision=MCollision\n",
    "    print(f\"Collision: {NCollision}\")\n",
    "    \n",
    "    swap(randomMin(Carray))\n",
    "     \n",
    "    findArrayCollision(Parray)\n",
    "    minn=randomMin(Carray)\n",
    "    MCollision=int(Carray[minn[0],minn[1]])\n",
    "    \n",
    "    print(Carray)\n",
    "    print()\n",
    "    print(Parray)  \n",
    "    return NCollision,MCollision"
   ]
  },
  {
   "cell_type": "code",
   "execution_count": 33,
   "id": "7be9dfac-f970-4713-b300-0458b6219a27",
   "metadata": {},
   "outputs": [
    {
     "name": "stdout",
     "output_type": "stream",
     "text": [
      "Collision: 0\n",
      "[[4. 4. 4. 4. 0.]\n",
      " [2. 0. 6. 4. 4.]\n",
      " [6. 4. 6. 0. 4.]\n",
      " [0. 6. 4. 6. 4.]\n",
      " [4. 6. 0. 2. 4.]]\n",
      "\n",
      "[[0. 0. 0. 0. 1.]\n",
      " [0. 1. 0. 0. 0.]\n",
      " [0. 0. 0. 1. 0.]\n",
      " [1. 0. 0. 0. 0.]\n",
      " [0. 0. 1. 0. 0.]]\n"
     ]
    }
   ],
   "source": [
    "NowCollision = FindNowCollision(Parray)\n",
    "print(f\"Collision: {NowCollision}\") \n",
    "findArrayCollision(Parray)\n",
    "minC=randomMin(Carray)\n",
    "MinCollision=int(Carray[minC[0],minC[1]])\n",
    "print(Carray)\n",
    "print()\n",
    "print(Parray)\n",
    "time.sleep(1)\n",
    "\n",
    "\n",
    "\n",
    "for i in range(0,300):# omuza gelince maximum kaç kez deneyecek \n",
    "    while(NowCollision>MinCollision):\n",
    "        i=0\n",
    "        \n",
    "        NowCollision,MinCollision=step(NowCollision,MinCollision)\n",
    "        #time.sleep(1)\n",
    "        if(NowCollision==0): \n",
    "            break\n",
    "            \n",
    "    if(NowCollision==0): \n",
    "        break       \n",
    "    NowCollision,MinCollision=step(NowCollision,MinCollision)\n",
    "    #time.sleep(1)\n",
    "    print(f\"shoulder iteration: {i}\")\n",
    "    \n",
    "        "
   ]
  },
  {
   "cell_type": "markdown",
   "id": "a227971a-2fe6-4587-9d66-c6c166f64fad",
   "metadata": {},
   "source": [
    "# "
   ]
  }
 ],
 "metadata": {
  "kernelspec": {
   "display_name": "Python 3",
   "language": "python",
   "name": "python3"
  },
  "language_info": {
   "codemirror_mode": {
    "name": "ipython",
    "version": 3
   },
   "file_extension": ".py",
   "mimetype": "text/x-python",
   "name": "python",
   "nbconvert_exporter": "python",
   "pygments_lexer": "ipython3",
   "version": "3.8.8"
  }
 },
 "nbformat": 4,
 "nbformat_minor": 5
}
